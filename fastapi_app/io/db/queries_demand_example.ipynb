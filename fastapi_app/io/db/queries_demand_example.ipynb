{
 "cells": [
  {
   "cell_type": "code",
   "execution_count": 1,
   "id": "d5ec9fd9-1119-44f8-b410-c095c856a22f",
   "metadata": {},
   "outputs": [],
   "source": [
    "from queries_demand import *"
   ]
  },
  {
   "cell_type": "code",
   "execution_count": 2,
   "id": "be852d34-acd4-4040-b4a7-b83eee1fde5f",
   "metadata": {},
   "outputs": [],
   "source": [
    "all_profiles = read_all_profiles(\"../../data/wp3/1-hour_mean_365_days_all_users.parquet\")"
   ]
  },
  {
   "cell_type": "code",
   "execution_count": 3,
   "id": "dcab6bbd-9edc-4695-b0ce-f81c9a434487",
   "metadata": {},
   "outputs": [],
   "source": [
    "distribution_lookup = read_distribution_lookup(\"../../data/wp3/zonal_consumption_distributions.parquet\")"
   ]
  },
  {
   "cell_type": "code",
   "execution_count": 4,
   "id": "9693cc81-62d3-4f3a-8136-c5b6fedbf836",
   "metadata": {},
   "outputs": [
    {
     "data": {
      "text/plain": [
       "2022-01-01 00:00:00     1266.285602\n",
       "2022-01-01 01:00:00     1760.086907\n",
       "2022-01-01 02:00:00     1758.573173\n",
       "2022-01-01 03:00:00     2213.742345\n",
       "2022-01-01 04:00:00     3254.329264\n",
       "                           ...     \n",
       "2022-12-31 19:00:00    22682.450859\n",
       "2022-12-31 20:00:00    25966.807156\n",
       "2022-12-31 21:00:00    24184.937857\n",
       "2022-12-31 22:00:00    17249.006069\n",
       "2022-12-31 23:00:00     9473.790470\n",
       "Length: 8760, dtype: float64"
      ]
     },
     "execution_count": 4,
     "metadata": {},
     "output_type": "execute_result"
    }
   ],
   "source": [
    "df_hh_profiles = combine_hh_profiles(all_profiles,\n",
    "                                         lat = get_location_GPS()[\"lat\"],\n",
    "                                         lon = get_location_GPS()[\"lon\"],\n",
    "                                         num_households = 200,\n",
    "                                         distribution_lookup = distribution_lookup,\n",
    "                                         option = get_user_household_demand_option_selection())\n",
    "df_hh_profiles"
   ]
  },
  {
   "cell_type": "code",
   "execution_count": 5,
   "id": "5d431d41-f3bd-4068-95b8-5e00f7523b1b",
   "metadata": {},
   "outputs": [
    {
     "ename": "TypeError",
     "evalue": "object of type 'NoneType' has no len()",
     "output_type": "error",
     "traceback": [
      "\u001b[1;31m---------------------------------------------------------------------------\u001b[0m",
      "\u001b[1;31mTypeError\u001b[0m                                 Traceback (most recent call last)",
      "Cell \u001b[1;32mIn [5], line 1\u001b[0m\n\u001b[1;32m----> 1\u001b[0m df_ent_profiles \u001b[38;5;241m=\u001b[39m \u001b[43mcombine_ent_profiles\u001b[49m\u001b[43m(\u001b[49m\u001b[43mall_profiles\u001b[49m\u001b[43m,\u001b[49m\u001b[43m \u001b[49m\u001b[43mnodes\u001b[49m\u001b[43m \u001b[49m\u001b[38;5;241;43m=\u001b[39;49m\u001b[43m \u001b[49m\u001b[43mget_all_enterprise_customer_nodes\u001b[49m\u001b[43m(\u001b[49m\u001b[43m)\u001b[49m\u001b[43m)\u001b[49m\n\u001b[0;32m      2\u001b[0m df_ent_profiles\n",
      "File \u001b[1;32mC:\\Spatial Data\\PeopleSuN\\H3\\Demand_Functions\\io\\db\\queries_demand.py:76\u001b[0m, in \u001b[0;36mcombine_ent_profiles\u001b[1;34m(all_profiles, nodes)\u001b[0m\n\u001b[0;32m     72\u001b[0m \u001b[38;5;66;03m##regex or str.split to parse enterprise users\u001b[39;00m\n\u001b[0;32m     73\u001b[0m \u001b[38;5;66;03m##compile total list of enterprises and heavy loads\u001b[39;00m\n\u001b[0;32m     74\u001b[0m enterprise_nodes_list \u001b[38;5;241m=\u001b[39m nodes\n\u001b[1;32m---> 76\u001b[0m node_count \u001b[38;5;241m=\u001b[39m \u001b[38;5;28;43mlen\u001b[39;49m\u001b[43m(\u001b[49m\u001b[43menterprise_nodes_list\u001b[49m\u001b[43m)\u001b[49m\n\u001b[0;32m     78\u001b[0m default_ent_profile \u001b[38;5;241m=\u001b[39m all_profiles[default_profile_name]\n\u001b[0;32m     80\u001b[0m \u001b[38;5;66;03m##combine profiles\u001b[39;00m\n",
      "\u001b[1;31mTypeError\u001b[0m: object of type 'NoneType' has no len()"
     ]
    }
   ],
   "source": [
    "df_ent_profiles = combine_ent_profiles(all_profiles, nodes = get_all_enterprise_customer_nodes())\n",
    "df_ent_profiles"
   ]
  },
  {
   "cell_type": "code",
   "execution_count": null,
   "id": "86ab3085-b85f-453b-bbec-02ebf237a1a6",
   "metadata": {},
   "outputs": [],
   "source": [
    "calibrated_profile = combine_and_calibrate_total_profile(\n",
    "    df_hh_profiles = combine_hh_profiles(all_profiles,\n",
    "                                         lat = get_location_GPS()[\"lat\"],\n",
    "                                         lon = get_location_GPS()[\"lon\"],\n",
    "                                         num_households = 200,\n",
    "                                         distribution_lookup = distribution_lookup,\n",
    "                                         option = get_user_household_demand_option_selection()),\n",
    "    df_ent_profiles = combine_ent_profiles(all_profiles,\n",
    "                                           nodes = get_all_enterprise_customer_nodes()),\n",
    "    calibration_target_value = 5,\n",
    "    calibration_option = get_user_calibration_option_selection())"
   ]
  },
  {
   "cell_type": "code",
   "execution_count": null,
   "id": "fb0faed7-ee57-4d3b-82ea-126826a8b89e",
   "metadata": {},
   "outputs": [],
   "source": [
    "calibrated_profile"
   ]
  },
  {
   "cell_type": "code",
   "execution_count": null,
   "id": "b9c37f4f-8228-487f-9fe7-635df6644d64",
   "metadata": {},
   "outputs": [],
   "source": [
    "#calibration totals/setpoints are in kW\n",
    "#profiles are still in W\n",
    "calibrated_profile.max()"
   ]
  },
  {
   "cell_type": "code",
   "execution_count": null,
   "id": "3cf0e4a2-1dde-4961-8400-f3d22d83125f",
   "metadata": {},
   "outputs": [],
   "source": []
  }
 ],
 "metadata": {
  "kernelspec": {
   "display_name": "Python [conda env:geo_env]",
   "language": "python",
   "name": "conda-env-geo_env-py"
  },
  "language_info": {
   "codemirror_mode": {
    "name": "ipython",
    "version": 3
   },
   "file_extension": ".py",
   "mimetype": "text/x-python",
   "name": "python",
   "nbconvert_exporter": "python",
   "pygments_lexer": "ipython3",
   "version": "3.8.13"
  }
 },
 "nbformat": 4,
 "nbformat_minor": 5
}
